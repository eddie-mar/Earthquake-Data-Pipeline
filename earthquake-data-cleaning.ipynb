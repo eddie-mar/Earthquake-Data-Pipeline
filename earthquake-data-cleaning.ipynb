{
 "cells": [
  {
   "cell_type": "code",
   "execution_count": 1,
   "id": "bd84a4f6-0448-4f27-9165-f278841b9c87",
   "metadata": {},
   "outputs": [],
   "source": [
    "import pyspark\n",
    "\n",
    "from pyspark.sql import SparkSession"
   ]
  },
  {
   "cell_type": "code",
   "execution_count": 2,
   "id": "3422737a-dbb7-42ca-b8e5-723a3e0e49fb",
   "metadata": {},
   "outputs": [
    {
     "name": "stdout",
     "output_type": "stream",
     "text": [
      "25/07/24 19:57:47 WARN Utils: Your hostname, recurSe resolves to a loopback address: 127.0.1.1; using 10.255.255.254 instead (on interface lo)\n",
      "25/07/24 19:57:47 WARN Utils: Set SPARK_LOCAL_IP if you need to bind to another address\n"
     ]
    },
    {
     "name": "stderr",
     "output_type": "stream",
     "text": [
      "Setting default log level to \"WARN\".\n",
      "To adjust logging level use sc.setLogLevel(newLevel). For SparkR, use setLogLevel(newLevel).\n"
     ]
    },
    {
     "name": "stdout",
     "output_type": "stream",
     "text": [
      "25/07/24 19:57:47 WARN NativeCodeLoader: Unable to load native-hadoop library for your platform... using builtin-java classes where applicable\n"
     ]
    }
   ],
   "source": [
    "spark = SparkSession.builder.appName('earthquake-data-cleaning').getOrCreate()"
   ]
  },
  {
   "cell_type": "code",
   "execution_count": 3,
   "id": "ebad4018-909b-4d93-8ac3-14d526d7fcc0",
   "metadata": {},
   "outputs": [
    {
     "name": "stderr",
     "output_type": "stream",
     "text": [
      "                                                                                "
     ]
    }
   ],
   "source": [
    "df = spark.read.option('header', 'true').option('inferSchema', 'true').csv('earthquake-data.csv')"
   ]
  },
  {
   "cell_type": "code",
   "execution_count": 4,
   "id": "cd1051f2-48af-41a0-8aaa-0182ebb2adfa",
   "metadata": {},
   "outputs": [
    {
     "name": "stdout",
     "output_type": "stream",
     "text": [
      "+--------------------+-------------+---------+----------+------------+-----+-----+-------+----+----------+\n",
      "|               place|         time|magnitude|       lat|        long|depth|alert|tsunami|  tz|      type|\n",
      "+--------------------+-------------+---------+----------+------------+-----+-----+-------+----+----------+\n",
      "|8km SSW of Lytle ...|-631157391770|     2.58|34.1911667|    -117.522| 4.49| null|      0|null|earthquake|\n",
      "|24km WNW of Searl...|-631215832260|     2.01|35.8593333|-117.6506667|  0.0| null|      0|null|earthquake|\n",
      "|28km N of El Sauz...|-631241139690|      3.3|32.1433333|-116.6288333|  6.0| null|      0|null|earthquake|\n",
      "|1km SSW of Artesi...|-631251141040|     1.83|33.8561667|-118.0893333| 0.25| null|      0|null|earthquake|\n",
      "|16km SE of Primo ...|-631284369930|     3.02|    32.113|-116.8063333|  6.0| null|      0|null|earthquake|\n",
      "|south of the Fiji...|-631286334600|     null|   -26.927|    -176.566| 15.0| null|      0|null|earthquake|\n",
      "|10 km SSW of Sawa...|-631292588380|     null|    35.793|     140.453| 35.0| null|      0|null|earthquake|\n",
      "|91 km NNE of Lase...|-631331600890|     null|    -5.923|     111.759|605.0| null|      0|null|earthquake|\n",
      "|Kermadec Islands ...|-631351025130|     null|   -27.889|    -177.108|135.0| null|      0|null|earthquake|\n",
      "|1km SW of Westwoo...|-631369460570|     1.82|34.0471667|   -118.4385|  6.0| null|      0|null|earthquake|\n",
      "|2 km SSE of Furao...|-631374120000|     null|    17.017|     121.808| 35.0| null|      0|null|earthquake|\n",
      "|15 km NE of Siman...|-631388218290|     null|     17.58|     121.946| 35.0| null|      0|null|earthquake|\n",
      "|7 km N of Agbanna...|-631400163400|     7.21|    17.439|     121.538| 15.0| null|      0|null|earthquake|\n",
      "|21km SW of Little...|-631402302400|     2.03|35.7918333|     -118.05|  6.0| null|      0|null|earthquake|\n",
      "|33 km SSE of Adak...|-631448307640|     null|    51.584|    -176.509| 35.0| null|      0|null|earthquake|\n",
      "|east of the South...|-631460084000|     null|   -59.169|     -20.328| 15.0| null|      0|null|earthquake|\n",
      "|174 km NW of Sant...|-631474473850|     null|    40.271|     -29.346| 15.0| null|      0|null|earthquake|\n",
      "|162 km ENE of San...|-631483741940|     null|    40.191|     -29.486| 15.0| null|      0|null|earthquake|\n",
      "|east of the South...|-631497764890|     6.68|   -60.052|     -21.755| 10.0| null|      0|null|earthquake|\n",
      "|193 km WNW of Asa...|-631508164560|     null|   -13.124|     -174.38| 35.0| null|      0|null|earthquake|\n",
      "+--------------------+-------------+---------+----------+------------+-----+-----+-------+----+----------+\n",
      "only showing top 20 rows\n",
      "\n"
     ]
    }
   ],
   "source": [
    "df.show()"
   ]
  },
  {
   "cell_type": "code",
   "execution_count": 6,
   "id": "b46e4e64-8ea6-4b0b-8674-e109d7fa4ca2",
   "metadata": {},
   "outputs": [
    {
     "name": "stdout",
     "output_type": "stream",
     "text": [
      "root\n",
      " |-- place: string (nullable = true)\n",
      " |-- time: long (nullable = true)\n",
      " |-- magnitude: double (nullable = true)\n",
      " |-- lat: double (nullable = true)\n",
      " |-- long: double (nullable = true)\n",
      " |-- depth: double (nullable = true)\n",
      " |-- alert: string (nullable = true)\n",
      " |-- tsunami: integer (nullable = true)\n",
      " |-- tz: double (nullable = true)\n",
      " |-- type: string (nullable = true)\n",
      "\n"
     ]
    }
   ],
   "source": [
    "df.printSchema()"
   ]
  },
  {
   "cell_type": "code",
   "execution_count": 15,
   "id": "a509904d-9890-4757-a0da-b54f561139f7",
   "metadata": {},
   "outputs": [
    {
     "name": "stdout",
     "output_type": "stream",
     "text": [
      "+--------------------+-------------+---------+-----+-------+-----+-----+-------+----+----------+\n",
      "|               place|         time|magnitude|  lat|   long|depth|alert|tsunami|  tz|      type|\n",
      "+--------------------+-------------+---------+-----+-------+-----+-----+-------+----+----------+\n",
      "|13 km SSE of Sain...|-636327022000|      4.7| 37.0| -113.5| null| null|      0|null|earthquake|\n",
      "|6 km NNW of Manil...|-636759044000|      4.5| 40.9| -124.2| null| null|      0|null|earthquake|\n",
      "|22 km NE of Soled...|-637208080000|      4.7|36.58|-121.17| null| null|      0|null|earthquake|\n",
      "|4 km S of Chester...|-642568304000|      4.5|40.27|-121.23| null| null|      0|null|earthquake|\n",
      "|0 km NW of East R...|-643726797000|      3.3|37.95|-122.32| null| null|      0|null|earthquake|\n",
      "|              Nevada|-645524935000|      4.5| 39.7| -119.8| null| null|      0|null|earthquake|\n",
      "|11 km WNW of Oak ...|-647357069000|      4.5| 35.8| -121.1| null| null|      0|null|earthquake|\n",
      "|17 km ENE of Hona...|-652179480000|     null| 19.5| -155.7| null| null|      0|null|earthquake|\n",
      "|136 km WSW of Pis...|-655186604000|      5.8| 42.0| -126.0| null| null|      0|null|earthquake|\n",
      "|0 km E of East Mi...|-657047400000|     null| 40.7| -111.8| null| null|      0|null|earthquake|\n",
      "|6 km WNW of Verdi...|-661017637000|      4.8|39.55|-120.08| null| null|      0|null|earthquake|\n",
      "|22 km WNW of Walk...|-662522166000|      4.5| 38.7| -119.0| null| null|      0|null|earthquake|\n",
      "|2 km ENE of Aroma...|-662683326000|      4.5| 36.9|-121.62| null| null|      0|null|earthquake|\n",
      "|19 km W of San Si...|-662721854000|      4.6|35.67| -121.4| null| null|      0|null|earthquake|\n",
      "|6 km WNW of Verdi...|-662900792000|      6.0|39.55|-120.08| null| null|      0|null|earthquake|\n",
      "|20 km SSW of Fern...|-666924575000|      4.5| 40.4|-124.32| null| null|      0|null|earthquake|\n",
      "|4 km E of Boulder...|-667811512000|     null|35.98|-114.78| null| null|      0|null|earthquake|\n",
      "|10 km NE of Boonv...|-679670700000|      3.8|39.07|-123.28| null| null|      0|null|earthquake|\n",
      "|214 km W of Bando...|-681726478000|      5.8| 43.5| -127.0| null| null|      0|null|earthquake|\n",
      "|2 km W of San Jua...|-686711700000|      4.5|36.85|-121.57| null| null|      0|null|earthquake|\n",
      "+--------------------+-------------+---------+-----+-------+-----+-----+-------+----+----------+\n",
      "only showing top 20 rows\n",
      "\n"
     ]
    }
   ],
   "source": [
    "df.filter(df.depth.isNull()).show()"
   ]
  },
  {
   "cell_type": "code",
   "execution_count": 16,
   "id": "624a0765-8f70-4bc8-8298-fc37cb1f0662",
   "metadata": {},
   "outputs": [
    {
     "name": "stdout",
     "output_type": "stream",
     "text": [
      "+--------------------+-------------+---------+----------+------------+-----+-----+-------+----+----------+\n",
      "|               place|         time|magnitude|       lat|        long|depth|alert|tsunami|  tz|      type|\n",
      "+--------------------+-------------+---------+----------+------------+-----+-----+-------+----+----------+\n",
      "|8km SSW of Lytle ...|-631157391770|     2.58|34.1911667|    -117.522| 4.49| null|      0|null|earthquake|\n",
      "|24km WNW of Searl...|-631215832260|     2.01|35.8593333|-117.6506667|  0.0| null|      0|null|earthquake|\n",
      "|28km N of El Sauz...|-631241139690|      3.3|32.1433333|-116.6288333|  6.0| null|      0|null|earthquake|\n",
      "|1km SSW of Artesi...|-631251141040|     1.83|33.8561667|-118.0893333| 0.25| null|      0|null|earthquake|\n",
      "|16km SE of Primo ...|-631284369930|     3.02|    32.113|-116.8063333|  6.0| null|      0|null|earthquake|\n",
      "|south of the Fiji...|-631286334600|     null|   -26.927|    -176.566| 15.0| null|      0|null|earthquake|\n",
      "|10 km SSW of Sawa...|-631292588380|     null|    35.793|     140.453| 35.0| null|      0|null|earthquake|\n",
      "|91 km NNE of Lase...|-631331600890|     null|    -5.923|     111.759|605.0| null|      0|null|earthquake|\n",
      "|Kermadec Islands ...|-631351025130|     null|   -27.889|    -177.108|135.0| null|      0|null|earthquake|\n",
      "|1km SW of Westwoo...|-631369460570|     1.82|34.0471667|   -118.4385|  6.0| null|      0|null|earthquake|\n",
      "|2 km SSE of Furao...|-631374120000|     null|    17.017|     121.808| 35.0| null|      0|null|earthquake|\n",
      "|15 km NE of Siman...|-631388218290|     null|     17.58|     121.946| 35.0| null|      0|null|earthquake|\n",
      "|7 km N of Agbanna...|-631400163400|     7.21|    17.439|     121.538| 15.0| null|      0|null|earthquake|\n",
      "|21km SW of Little...|-631402302400|     2.03|35.7918333|     -118.05|  6.0| null|      0|null|earthquake|\n",
      "|33 km SSE of Adak...|-631448307640|     null|    51.584|    -176.509| 35.0| null|      0|null|earthquake|\n",
      "|east of the South...|-631460084000|     null|   -59.169|     -20.328| 15.0| null|      0|null|earthquake|\n",
      "|174 km NW of Sant...|-631474473850|     null|    40.271|     -29.346| 15.0| null|      0|null|earthquake|\n",
      "|162 km ENE of San...|-631483741940|     null|    40.191|     -29.486| 15.0| null|      0|null|earthquake|\n",
      "|east of the South...|-631497764890|     6.68|   -60.052|     -21.755| 10.0| null|      0|null|earthquake|\n",
      "|193 km WNW of Asa...|-631508164560|     null|   -13.124|     -174.38| 35.0| null|      0|null|earthquake|\n",
      "+--------------------+-------------+---------+----------+------------+-----+-----+-------+----+----------+\n",
      "only showing top 20 rows\n",
      "\n"
     ]
    }
   ],
   "source": [
    "df.na.fill({'depth': 0}).show()"
   ]
  },
  {
   "cell_type": "code",
   "execution_count": null,
   "id": "79f40e2a-6dfa-47cd-add2-83201c833756",
   "metadata": {},
   "outputs": [],
   "source": []
  }
 ],
 "metadata": {
  "kernelspec": {
   "display_name": "Python 3 (ipykernel)",
   "language": "python",
   "name": "python3"
  },
  "language_info": {
   "codemirror_mode": {
    "name": "ipython",
    "version": 3
   },
   "file_extension": ".py",
   "mimetype": "text/x-python",
   "name": "python",
   "nbconvert_exporter": "python",
   "pygments_lexer": "ipython3",
   "version": "3.12.3"
  }
 },
 "nbformat": 4,
 "nbformat_minor": 5
}
